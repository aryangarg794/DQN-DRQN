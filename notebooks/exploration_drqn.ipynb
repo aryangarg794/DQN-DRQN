{
 "cells": [
  {
   "cell_type": "markdown",
   "metadata": {},
   "source": [
    "# Deep Recurrent Q-Learning"
   ]
  },
  {
   "cell_type": "markdown",
   "metadata": {},
   "source": [
    "### Resources\n",
    "\n",
    "- https://arxiv.org/pdf/1507.06527"
   ]
  },
  {
   "cell_type": "code",
   "execution_count": 1,
   "metadata": {},
   "outputs": [],
   "source": [
    "\n",
    "import warnings\n",
    "warnings.filterwarnings('ignore')\n",
    "\n",
    "import numpy as np\n",
    "import time\n",
    "import torch\n",
    "import torch.nn as nn\n",
    "import gymnasium as gym\n",
    "import ale_py\n",
    "import matplotlib.pyplot as plt\n",
    "\n",
    "from collections import deque\n",
    "from gymnasium.wrappers import FrameStack\n",
    "from gymnasium.wrappers.frame_stack import LazyFrames\n",
    "from stable_baselines3.common.atari_wrappers import (\n",
    "    AtariWrapper,\n",
    "    FireResetEnv,\n",
    ")\n",
    "\n",
    "gym.register_envs(ale_py)\n",
    "\n",
    "from utils.replay import LazyFramesToNumpyWrapper, MetricTracker"
   ]
  },
  {
   "cell_type": "code",
   "execution_count": 2,
   "metadata": {},
   "outputs": [
    {
     "data": {
      "text/plain": [
       "'cuda'"
      ]
     },
     "execution_count": 2,
     "metadata": {},
     "output_type": "execute_result"
    }
   ],
   "source": [
    "device = 'cuda' if torch.cuda.is_available() else 'cpu'\n",
    "device"
   ]
  },
  {
   "cell_type": "code",
   "execution_count": 3,
   "metadata": {},
   "outputs": [],
   "source": [
    "def display_frame(frame, gray=False):\n",
    "    if gray:\n",
    "        plt.imshow(frame, cmap='gray')\n",
    "    else:\n",
    "        plt.imshow(frame)\n",
    "    plt.axis('off')\n",
    "    plt.show()"
   ]
  },
  {
   "cell_type": "code",
   "execution_count": 42,
   "metadata": {},
   "outputs": [],
   "source": [
    "def display_multiple_frames(frames):\n",
    "    fig, axes = plt.subplots(1, 4, figsize=(15, 5))\n",
    "    for i, ax in enumerate(axes):\n",
    "        ax.imshow(frames[i], cmap='gray')\n",
    "        ax.axis('off')\n",
    "    plt.show()"
   ]
  },
  {
   "cell_type": "code",
   "execution_count": 47,
   "metadata": {},
   "outputs": [],
   "source": [
    "class FlickeringAtari(gym.ObservationWrapper):\n",
    "    def __init__(self, env):\n",
    "        super().__init__(env)\n",
    "        self.env = env\n",
    "\n",
    "    def observation(self, observation, prob=0.5):\n",
    "        if np.random.rand() < prob:\n",
    "            observation = np.zeros_like(observation)\n",
    "        return observation"
   ]
  },
  {
   "cell_type": "code",
   "execution_count": 48,
   "metadata": {},
   "outputs": [],
   "source": [
    "def make_env(game, render='rgb_array'):\n",
    "    env = gym.make(game, render_mode=render)\n",
    "    env = AtariWrapper(env, terminal_on_life_loss=False)\n",
    "    env = LazyFramesToNumpyWrapper(env)\n",
    "    env = FlickeringAtari(env)\n",
    "    if \"FIRE\" in env.unwrapped.get_action_meanings():\n",
    "        env = FireResetEnv(env)\n",
    "    return env"
   ]
  },
  {
   "cell_type": "code",
   "execution_count": 49,
   "metadata": {},
   "outputs": [],
   "source": [
    "env_test = make_env('FrostbiteNoFrameskip-v4')"
   ]
  },
  {
   "cell_type": "code",
   "execution_count": 63,
   "metadata": {},
   "outputs": [
    {
     "name": "stdout",
     "output_type": "stream",
     "text": [
      "(84, 84, 1)\n"
     ]
    },
    {
     "data": {
      "image/png": "[encoded data removed]",
      "text/plain": [
       "<Figure size 640x480 with 1 Axes>"
      ]
     },
     "metadata": {},
     "output_type": "display_data"
    }
   ],
   "source": [
    "observation, _ = env_test.reset()\n",
    "print(observation.shape)\n",
    "display_frame(observation, gray=True)"
   ]
  },
  {
   "cell_type": "code",
   "execution_count": 117,
   "metadata": {},
   "outputs": [],
   "source": [
    "from copy import deepcopy\n",
    "\n",
    "class Episode:\n",
    "    \n",
    "    def __init__(\n",
    "        self\n",
    "    ):\n",
    "        self.obs = []\n",
    "        self.actions = []\n",
    "        self.rewards = []\n",
    "        self.obs_prime = []\n",
    "        self.dones = []\n",
    "        \n",
    "    def add_step(\n",
    "        self,\n",
    "        observation,\n",
    "        action, \n",
    "        reward, \n",
    "        observation_prime, \n",
    "        terminated\n",
    "    ):\n",
    "        self.obs.append(observation)\n",
    "        self.actions.append(action)\n",
    "        self.rewards.append(reward)\n",
    "        self.obs_prime.append(observation_prime)\n",
    "        self.dones.append(terminated)\n",
    "        \n",
    "    def __getitem__(self, index):\n",
    "        if isinstance(index, slice):\n",
    "            ep = Episode()\n",
    "            ep.obs = self.obs[index]\n",
    "            ep.actions = self.actions[index]\n",
    "            ep.rewards = self.rewards[index]\n",
    "            ep.obs_prime = self.obs_prime[index]\n",
    "            ep.dones = self.dones[index]\n",
    "            return ep\n",
    "        elif isinstance(index, tuple):\n",
    "            arg = index[0]\n",
    "            pos = index[1]\n",
    "            if arg == 0: \n",
    "                return self.obs[pos]\n",
    "            elif arg == 1:\n",
    "                return self.actions[pos]\n",
    "            elif arg == 2:\n",
    "                return self.rewards[pos]\n",
    "            elif arg == 3:\n",
    "                return self.obs_prime[pos]\n",
    "            elif arg == 4:\n",
    "                return self.dones[pos]\n",
    "         \n",
    "        return (\n",
    "            self.obs[index],\n",
    "            self.actions[index],\n",
    "            self.rewards[index],\n",
    "            self.obs_prime[index],\n",
    "            self.dones[index]\n",
    "        )\n",
    "    \n",
    "    def pad(self, stop):\n",
    "        new_ep = Episode()\n",
    "        new_ep.obs = deepcopy(self.obs)\n",
    "        new_ep.actions = deepcopy(self.actions)\n",
    "        new_ep.rewards = deepcopy(self.rewards)\n",
    "        new_ep.obs_prime = deepcopy(self.obs_prime)\n",
    "        new_ep.dones = deepcopy(self.dones)\n",
    "        def pad_field(arr, stop, zeros):\n",
    "            for i in range(stop):\n",
    "                if i >= len(arr):\n",
    "                    arr.append(zeros)\n",
    "        \n",
    "        pad_field(new_ep.obs, stop, zeros=np.zeros_like(self.obs[0]))\n",
    "        pad_field(new_ep.actions, stop, zeros=np.int64(0))\n",
    "        pad_field(new_ep.rewards, stop, zeros=np.float32(0.0))\n",
    "        pad_field(new_ep.obs_prime, stop, zeros=np.zeros_like(self.obs_prime[0]))\n",
    "        pad_field(new_ep.dones, stop, zeros=True)\n",
    "        \n",
    "        return new_ep\n",
    "    \n",
    "    def __len__(self):\n",
    "        return len(self.obs)\n",
    "    \n",
    "    def __repr__(self):\n",
    "        return f'Episode of Length {len(self)}'"
   ]
  },
  {
   "cell_type": "code",
   "execution_count": 118,
   "metadata": {},
   "outputs": [
    {
     "data": {
      "text/plain": [
       "Episode of Length 316"
      ]
     },
     "execution_count": 118,
     "metadata": {},
     "output_type": "execute_result"
    }
   ],
   "source": [
    "observation, _ = env_test.reset()\n",
    "done = False\n",
    "ep = Episode()\n",
    "while not done:\n",
    "    action = env_test.action_space.sample()\n",
    "    observation_prime, reward, terminated, truncated, _ = env_test.step(action) \n",
    "    ep.add_step(\n",
    "        observation.squeeze(),\n",
    "        action, \n",
    "        reward, \n",
    "        observation_prime.squeeze(),\n",
    "        terminated or truncated\n",
    "    )\n",
    "    \n",
    "    done = terminated or truncated\n",
    "    observation = observation_prime\n",
    "ep"
   ]
  },
  {
   "cell_type": "code",
   "execution_count": 119,
   "metadata": {},
   "outputs": [
    {
     "data": {
      "text/plain": [
       "(Episode of Length 316, Episode of Length 500)"
      ]
     },
     "execution_count": 119,
     "metadata": {},
     "output_type": "execute_result"
    }
   ],
   "source": [
    "padded_ep = ep.pad(500)\n",
    "ep, padded_ep"
   ]
  },
  {
   "cell_type": "code",
   "execution_count": 127,
   "metadata": {},
   "outputs": [],
   "source": [
    "import random\n",
    "\n",
    "class ReplayBufferDRQN:\n",
    "    \n",
    "    def __init__(self, capacity, device='cuda'):\n",
    "        self._buffer = deque(maxlen=capacity)\n",
    "        self.device = device\n",
    "    \n",
    "    def store(self, episode):\n",
    "        self._buffer.append(episode)\n",
    "    \n",
    "    def sample(self, batch_size):\n",
    "        batch = random.sample(self._buffer, batch_size)\n",
    "        max_len = len(max(batch, key=len))\n",
    "        padded_batch = [ep.pad(max_len) for ep in batch]\n",
    "        \n",
    "        return (\n",
    "            self.extract_item(padded_batch, 0, (batch_size, max_len, 1, 84, 84), dtype=torch.float32),\n",
    "            self.extract_item(padded_batch, 1, (batch_size, max_len, 1), dtype=torch.int64),\n",
    "            self.extract_item(padded_batch, 2, (batch_size, max_len, 1), dtype=torch.float32),\n",
    "            self.extract_item(padded_batch, 3, (batch_size, max_len, 1, 84, 84), dtype=torch.float32),\n",
    "            self.extract_item(padded_batch, 4, (batch_size, max_len, 1), dtype=torch.bool)\n",
    "        )\n",
    "\n",
    "    def extract_item(self, batch, arg, shape, dtype):\n",
    "        batched_values = np.array([val[arg, :] for val in batch]).reshape(shape)\n",
    "        batched_values = torch.as_tensor(batched_values, dtype=dtype, device=self.device)\n",
    "        return batched_values\n",
    "\n",
    "    def __getitem__(self, index):\n",
    "        return self._buffer[index]\n",
    "        \n",
    "    def __len__(self):\n",
    "        return len(self._buffer)"
   ]
  },
  {
   "cell_type": "code",
   "execution_count": 128,
   "metadata": {},
   "outputs": [],
   "source": [
    "buffer = ReplayBufferDRQN(10)\n",
    "\n",
    "observation, _ = env_test.reset()\n",
    "for _ in range(10):    \n",
    "    observation, _ = env_test.reset()\n",
    "    done = False\n",
    "    ep = Episode()\n",
    "    while not done:\n",
    "        action = env_test.action_space.sample()\n",
    "        observation_prime, reward, terminated, truncated, _ = env_test.step(action) \n",
    "        ep.add_step(\n",
    "            observation.squeeze(),\n",
    "            action, \n",
    "            reward, \n",
    "            observation_prime.squeeze(),\n",
    "            terminated or truncated\n",
    "        )\n",
    "        \n",
    "        done = terminated or truncated\n",
    "        observation = observation_prime\n",
    "        \n",
    "    buffer.store(ep)"
   ]
  },
  {
   "cell_type": "code",
   "execution_count": 130,
   "metadata": {},
   "outputs": [],
   "source": [
    "test_obs, test_act, test_rew, test_prime, test_dones = buffer.sample(2)"
   ]
  },
  {
   "cell_type": "code",
   "execution_count": 131,
   "metadata": {},
   "outputs": [
    {
     "data": {
      "text/plain": [
       "(torch.Size([2, 337, 1, 84, 84]),\n",
       " torch.Size([2, 337, 1]),\n",
       " torch.Size([2, 337, 1]),\n",
       " torch.Size([2, 337, 1, 84, 84]),\n",
       " torch.Size([2, 337, 1]))"
      ]
     },
     "execution_count": 131,
     "metadata": {},
     "output_type": "execute_result"
    }
   ],
   "source": [
    "test_obs.shape, test_act.shape, test_rew.shape, test_prime.shape, test_dones.shape"
   ]
  },
  {
   "cell_type": "code",
   "execution_count": 133,
   "metadata": {},
   "outputs": [],
   "source": [
    "def load_buffer(preload, capacity, game, prob=0.5):\n",
    "    env = make_env(game)\n",
    "    buffer = ReplayBufferDRQN(capacity)\n",
    "\n",
    "    observation, _ = env.reset()\n",
    "    for _ in range(preload):    \n",
    "        observation, _ = env_test.reset()\n",
    "        done = False\n",
    "        ep = Episode()\n",
    "        while not done:\n",
    "            action = env_test.action_space.sample()\n",
    "            observation_prime, reward, terminated, truncated, _ = env_test.step(action)\n",
    "        \n",
    "            ep.add_step(\n",
    "                observation.squeeze(),\n",
    "                action, \n",
    "                reward, \n",
    "                observation_prime.squeeze(),\n",
    "            )\n",
    "            \n",
    "            done = terminated or truncated\n",
    "            observation = observation_prime\n",
    "        \n",
    "        buffer.store(ep)\n",
    "            \n",
    "    return buffer, env"
   ]
  },
  {
   "cell_type": "code",
   "execution_count": 134,
   "metadata": {},
   "outputs": [],
   "source": [
    "class DRQN(nn.Module):\n",
    "    \n",
    "    def __init__(\n",
    "        self, \n",
    "        env,\n",
    "        in_channels=1, \n",
    "        hidden_filters=list([32, 64, 64]),\n",
    "        hidden_size=512,\n",
    "        start_epsilon = 0.99,\n",
    "        max_decay = 0.1,\n",
    "        decay_steps = 1000,  \n",
    "        *args, \n",
    "        **kwargs\n",
    "    ):\n",
    "        super().__init__(*args, **kwargs)\n",
    "        self.env = env\n",
    "        self.start_epsilon = start_epsilon\n",
    "        self.epsilon = start_epsilon\n",
    "        self.max_decay = max_decay\n",
    "        self.decay_steps = decay_steps\n",
    "        self.num_actions = env.action_space.n\n",
    "        \n",
    "        self.layers_cnn = nn.Sequential(\n",
    "            nn.Conv2d(in_channels, hidden_filters[0], kernel_size=8, stride=4),\n",
    "            nn.ReLU(),\n",
    "            nn.Conv2d(hidden_filters[0], hidden_filters[1], kernel_size=4, stride=2),\n",
    "            nn.ReLU(),\n",
    "            nn.Conv2d(hidden_filters[1], hidden_filters[2], kernel_size=3, stride=1),\n",
    "            nn.ReLU(),\n",
    "        )\n",
    "        \n",
    "\n",
    "        self.lstm = nn.LSTM(hidden_filters[-1] * 7 * 7, hidden_size, batch_first=True)\n",
    "        self.linear = nn.Linear(hidden_size, self.num_actions)\n",
    "        \n",
    "        self.apply(self._init)\n",
    "    \n",
    "    def forward(self, x):\n",
    "        B, T, C, H, W = x.shape\n",
    "        x_view = x.view(-1, C, H, W)\n",
    "        x_view = self.layers_cnn(x_view / 255.0)\n",
    "        \n",
    "        x_view = x_view.reshape(B, T, -1)\n",
    "        hidden_states, _ = self.lstm(x_view)\n",
    "        output = self.linear(hidden_states)\n",
    "        \n",
    "        return output\n",
    "    \n",
    "       \n",
    "    def _init(self, m):\n",
    "      if isinstance(m, (nn.Linear, nn.Conv2d)):\n",
    "        nn.init.kaiming_normal_(m.weight, nonlinearity='relu')\n",
    "        if m.bias is not None:\n",
    "          nn.init.zeros_(m.bias)\n",
    "              \n",
    "    def epsilon_greedy(self, state, dim=-1):\n",
    "        rng = np.random.random()\n",
    "\n",
    "        if rng < self.epsilon:\n",
    "            action = self.env.action_space.sample()\n",
    "            action = torch.tensor(action)\n",
    "        else:\n",
    "            with torch.no_grad():\n",
    "                q_values = self(state)\n",
    "            \n",
    "            action = torch.argmax(q_values.squeeze(), dim=dim)\n",
    "\n",
    "        return action\n",
    "\n",
    "    def epsilon_decay(self, step):\n",
    "        self.epsilon = self.max_decay + (self.start_epsilon - self.max_decay) * max(0, (self.decay_steps - step) / self.decay_steps)\n",
    "        \n"
   ]
  },
  {
   "cell_type": "code",
   "execution_count": 108,
   "metadata": {},
   "outputs": [
    {
     "data": {
      "text/plain": [
       "torch.Size([1, 1, 18])"
      ]
     },
     "execution_count": 108,
     "metadata": {},
     "output_type": "execute_result"
    }
   ],
   "source": [
    "net = DRQN(env_test, start_epsilon=0.0).to(device)\n",
    "rand = torch.randn((1, 1, 1, 84, 84)).to(device)\n",
    "net(rand).shape"
   ]
  },
  {
   "cell_type": "code",
   "execution_count": 135,
   "metadata": {},
   "outputs": [],
   "source": [
    "class MetricTrackerDRQN:\n",
    "    def __init__(self, window_size=100):\n",
    "        self.window_size = window_size\n",
    "        self.rewards = deque(maxlen=window_size)\n",
    "        \n",
    "    def add_episode_reward(self, reward):\n",
    "        self.current_episode_reward += reward\n",
    "        \n",
    "    @property\n",
    "    def avg_reward(self):\n",
    "        return np.mean(self.rewards) if self.rewards else 0\n",
    "        "
   ]
  },
  {
   "cell_type": "code",
   "execution_count": null,
   "metadata": {},
   "outputs": [],
   "source": [
    "def train(\n",
    "    env, \n",
    "    name, \n",
    "    q_network, \n",
    "    target_network, \n",
    "    timesteps, \n",
    "    replay, \n",
    "    train_freq, \n",
    "    batch_size, \n",
    "    gamma, \n",
    "    decay_start,\n",
    "    C,\n",
    "    save_step=850000,\n",
    "):\n",
    "    loss_func = nn.MSELoss()\n",
    "    start_time = time.time()\n",
    "    episode_count = 0\n",
    "    best_avg_reward = -float('inf')\n",
    "    metrics = MetricTracker()\n",
    "    \n",
    "    optimizer = torch.optim.RMSprop(q_network.params(), lr=2.5e-4, momentum=0.95, alpha=0.95, eps=0.01)\n",
    "    \n",
    "    for step in range(1, timesteps+1):\n",
    "        \n",
    "        # sample full episode \n",
    "        obs, _ = env.reset()\n",
    "        done = False\n",
    "        episode = Episode()\n",
    "        while not done:\n",
    "            batched_obs = obs.reshape(1, 1, 1, 84, 84)\n",
    "            action = q_network.epsilon_greedy(torch.as_tensor(batched_obs, dtype=torch.float32, device=device)).cpu().item()\n",
    "            obs_prime, reward, terminated, truncated, _ = env.step(action)\n",
    "            \n",
    "            episode.add_step(\n",
    "                obs, \n",
    "                action,\n",
    "                reward, \n",
    "                obs_prime,\n",
    "                terminated or truncated\n",
    "            )\n",
    "            \n",
    "            obs = obs_prime\n",
    "            done = terminated or truncated\n",
    "        \n",
    "        replay.store(episode)\n",
    "        \n",
    "        if step % train_freq == 0:\n",
    "            pass # do training here\n",
    "        \n",
    "        if step > decay_start: \n",
    "            q_network.epsilon_decay(step)\n",
    "            target_network.epsilon_decay(step)\n",
    "        \n",
    "        elapsed_time = time.time() - start_time\n",
    "        steps_per_sec = step / elapsed_time\n",
    "        metrics.end_episode()\n",
    "        episode_count += 1\n",
    "        \n",
    "        if metrics.avg_reward > best_avg_reward and step > save_step:\n",
    "            best_avg_reward = metrics.avg_reward\n",
    "            torch.save({\n",
    "                'step': step,\n",
    "                'model_state_dict': q_network.state_dict(),\n",
    "                'optimizer_state_dict': optimizer.state_dict(),\n",
    "                'avg_reward': metrics.avg_reward,\n",
    "            }, f\"models/{name}_dqn_best_{step}.pth\")\n",
    "            \n",
    "        print(f\"\\rStep: {step:,}/{timesteps:,} | \"\n",
    "                f\"Episodes: {episode_count} | \"\n",
    "                f\"Avg Reward: {metrics.avg_reward:.1f} | \"\n",
    "                f\"Epsilon: {q_network.epsilon:.3f} | \"\n",
    "                f\"Steps/sec: {steps_per_sec:.1f}\", end=\"\\r\")\n"
   ]
  }
 ],
 "metadata": {
  "kernelspec": {
   "display_name": ".venv",
   "language": "python",
   "name": "python3"
  },
  "language_info": {
   "codemirror_mode": {
    "name": "ipython",
    "version": 3
   },
   "file_extension": ".py",
   "mimetype": "text/x-python",
   "name": "python",
   "nbconvert_exporter": "python",
   "pygments_lexer": "ipython3",
   "version": "3.12.5"
  }
 },
 "nbformat": 4,
 "nbformat_minor": 2
}

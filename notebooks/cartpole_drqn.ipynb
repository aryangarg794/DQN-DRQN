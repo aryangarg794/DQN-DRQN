{
 "cells": [
  {
   "cell_type": "code",
   "execution_count": 1,
   "metadata": {},
   "outputs": [
    {
     "data": {
      "text/plain": [
       "'cuda'"
      ]
     },
     "execution_count": 1,
     "metadata": {},
     "output_type": "execute_result"
    }
   ],
   "source": [
    "import warnings\n",
    "warnings.filterwarnings('ignore')\n",
    "\n",
    "import numpy as np\n",
    "import time\n",
    "import torch\n",
    "import torch.nn as nn\n",
    "import gymnasium as gym\n",
    "import ale_py\n",
    "import minatar\n",
    "import matplotlib.pyplot as plt\n",
    "\n",
    "from collections import deque\n",
    "from tqdm import tqdm\n",
    "from gymnasium.wrappers import FrameStack\n",
    "from gymnasium.wrappers.frame_stack import LazyFrames\n",
    "from stable_baselines3.common.atari_wrappers import (\n",
    "    AtariWrapper,\n",
    "    FireResetEnv,\n",
    ")\n",
    "\n",
    "gym.register_envs(ale_py)\n",
    "gym.register_envs(minatar)\n",
    "\n",
    "from utils.replay import LazyFramesToNumpyWrapper, MetricTracker\n",
    "\n",
    "device = 'cuda' if torch.cuda.is_available() else 'cpu'\n",
    "device"
   ]
  },
  {
   "cell_type": "code",
   "execution_count": 2,
   "metadata": {},
   "outputs": [],
   "source": [
    "def display_frame(frame, gray=False):\n",
    "    if gray:\n",
    "        plt.imshow(frame, cmap='gray')\n",
    "    else:\n",
    "        plt.imshow(frame)\n",
    "    plt.axis('off')\n",
    "    plt.show()"
   ]
  },
  {
   "cell_type": "code",
   "execution_count": 3,
   "metadata": {},
   "outputs": [],
   "source": [
    "class MaskPole(gym.ObservationWrapper):\n",
    "    def __init__(self, env, mask_prob=0.3):\n",
    "        super().__init__(env)\n",
    "        self.mask_prob = mask_prob\n",
    "\n",
    "    def observation(self, obs):\n",
    "        mask = np.random.binomial(1, self.mask_prob, obs.shape)\n",
    "        return obs * (1 - mask)  "
   ]
  },
  {
   "cell_type": "code",
   "execution_count": 9,
   "metadata": {},
   "outputs": [],
   "source": [
    "class MetricTrackerDRQN:\n",
    "    def __init__(self, window_size=15):\n",
    "        self.window_size = window_size\n",
    "        self.rewards = deque(maxlen=window_size)\n",
    "        self.current_episode_reward = 0\n",
    "        \n",
    "    def add_episode_reward(self, reward):\n",
    "        self.current_episode_reward += reward\n",
    "        \n",
    "    def end_episode(self):\n",
    "        self.rewards.append(self.current_episode_reward)   \n",
    "        self.current_episode_reward = 0\n",
    "         \n",
    "    @property\n",
    "    def avg_reward(self):\n",
    "        return np.mean(self.rewards) if self.rewards else 0\n",
    "        "
   ]
  },
  {
   "cell_type": "code",
   "execution_count": 10,
   "metadata": {},
   "outputs": [],
   "source": [
    "class DRQN(nn.Module):\n",
    "    \n",
    "    def __init__(\n",
    "        self, \n",
    "        env,\n",
    "        input_shape=4, \n",
    "        hidden_size=128,\n",
    "        start_epsilon = 0.99,\n",
    "        max_decay = 0.1,\n",
    "        device='cuda',\n",
    "        decay_steps = 1000,  \n",
    "        *args, \n",
    "        **kwargs\n",
    "    ):\n",
    "        super().__init__(*args, **kwargs)\n",
    "        self.env = env\n",
    "        self.start_epsilon = start_epsilon\n",
    "        self.epsilon = start_epsilon\n",
    "        self.max_decay = max_decay\n",
    "        self.decay_steps = decay_steps\n",
    "        self.num_actions = env.action_space.n\n",
    "        self.hidden_size = hidden_size\n",
    "        self.device = device\n",
    "        \n",
    "        \n",
    "        self.linear1 = nn.Linear(input_shape, hidden_size)\n",
    "        self.lstm = nn.LSTM(hidden_size, hidden_size, batch_first=True)\n",
    "        self.linear2 = nn.Linear(hidden_size, self.num_actions)\n",
    "        \n",
    "        self.apply(self._init)\n",
    "    \n",
    "    def forward(self, x):\n",
    "        x = self.linear1(x)\n",
    "        hidden_states, _ = self.lstm(x)\n",
    "        output = self.linear2(hidden_states)\n",
    "        \n",
    "        return output\n",
    "    \n",
    "       \n",
    "    def _init(self, m):\n",
    "      if isinstance(m, (nn.Linear, nn.Conv2d)):\n",
    "        nn.init.kaiming_normal_(m.weight, nonlinearity='relu')\n",
    "        if m.bias is not None:\n",
    "          nn.init.zeros_(m.bias)\n",
    "    \n",
    "    def init_hidden_state(self, batch_size, training=True):\n",
    "        if training:\n",
    "            return torch.zeros((1, batch_size, self.hidden_size), device=self.device), torch.zeros((1, batch_size, self.hidden_size), device=self.device)\n",
    "        else:\n",
    "            return torch.zeros([1, 1, self.hidden_size], device=self.device), torch.zeros((1, 1, self.hidden_size), device=self.device)\n",
    "              \n",
    "    def epsilon_greedy(self, state, dim=-1):\n",
    "        rng = np.random.random()\n",
    "\n",
    "        if rng < self.epsilon:\n",
    "            action = self.env.action_space.sample()\n",
    "            action = torch.tensor(action)\n",
    "        else:\n",
    "            with torch.no_grad():\n",
    "                q_values = self(state)\n",
    "            \n",
    "            action = torch.argmax(q_values.squeeze(), dim=dim)\n",
    "\n",
    "        return action\n",
    "\n",
    "    def epsilon_decay(self, step):\n",
    "        self.epsilon = self.max_decay + (self.start_epsilon - self.max_decay) * max(0, (self.decay_steps - step) / self.decay_steps)\n",
    "        \n"
   ]
  },
  {
   "cell_type": "code",
   "execution_count": 11,
   "metadata": {},
   "outputs": [],
   "source": [
    "from copy import deepcopy\n",
    "\n",
    "class Episode:\n",
    "    \n",
    "    def __init__(\n",
    "        self\n",
    "    ):\n",
    "        self.obs = []\n",
    "        self.actions = []\n",
    "        self.rewards = []\n",
    "        self.obs_prime = []\n",
    "        self.dones = []\n",
    "        \n",
    "    def add_step(\n",
    "        self,\n",
    "        observation,\n",
    "        action, \n",
    "        reward, \n",
    "        observation_prime, \n",
    "        terminated\n",
    "    ):\n",
    "        self.obs.append(observation)\n",
    "        self.actions.append(action)\n",
    "        self.rewards.append(reward)\n",
    "        self.obs_prime.append(observation_prime)\n",
    "        self.dones.append(terminated)\n",
    "        \n",
    "    def __getitem__(self, index):\n",
    "        if isinstance(index, slice):\n",
    "            ep = Episode()\n",
    "            ep.obs = self.obs[index]\n",
    "            ep.actions = self.actions[index]\n",
    "            ep.rewards = self.rewards[index]\n",
    "            ep.obs_prime = self.obs_prime[index]\n",
    "            ep.dones = self.dones[index]\n",
    "            return ep\n",
    "        elif isinstance(index, tuple):\n",
    "            arg = index[0]\n",
    "            pos = index[1]\n",
    "            if arg == 0: \n",
    "                return self.obs[pos]\n",
    "            elif arg == 1:\n",
    "                return self.actions[pos]\n",
    "            elif arg == 2:\n",
    "                return self.rewards[pos]\n",
    "            elif arg == 3:\n",
    "                return self.obs_prime[pos]\n",
    "            elif arg == 4:\n",
    "                return self.dones[pos]\n",
    "         \n",
    "        return (\n",
    "            self.obs[index],\n",
    "            self.actions[index],\n",
    "            self.rewards[index],\n",
    "            self.obs_prime[index],\n",
    "            self.dones[index]\n",
    "        )\n",
    "    \n",
    "    def pad(self, stop, random=False):\n",
    "        new_ep = Episode()\n",
    "        new_ep.obs = deepcopy(self.obs)\n",
    "        new_ep.actions = deepcopy(self.actions)\n",
    "        new_ep.rewards = deepcopy(self.rewards)\n",
    "        new_ep.obs_prime = deepcopy(self.obs_prime)\n",
    "        new_ep.dones = deepcopy(self.dones)\n",
    "        def pad_field(arr, stop, zeros, random_start=None):\n",
    "            copy_arr = deepcopy(arr)\n",
    "            if len(arr) > stop and random_start is not None:\n",
    "                copy_arr = copy_arr[random_start:random_start+stop]\n",
    "            else:\n",
    "                for i in range(stop):\n",
    "                    if i >= len(copy_arr):\n",
    "                        copy_arr.append(zeros)\n",
    "            return copy_arr\n",
    "            \n",
    "        if random:\n",
    "            random_start = np.random.randint(low=0, high=max(len(new_ep.obs)-stop-1, 1))\n",
    "        else:\n",
    "            random_start = None\n",
    "            \n",
    "        new_ep.obs = pad_field(new_ep.obs, stop, zeros=np.zeros_like(self.obs[0]), random_start=random_start)\n",
    "        new_ep.actions = pad_field(new_ep.actions, stop, zeros=np.int64(0), random_start=random_start)\n",
    "        new_ep.rewards = pad_field(new_ep.rewards, stop, zeros=np.float32(0.0), random_start=random_start)\n",
    "        new_ep.obs_prime = pad_field(new_ep.obs_prime, stop, zeros=np.zeros_like(self.obs_prime[0]), random_start=random_start)\n",
    "        new_ep.dones = pad_field(new_ep.dones, stop, zeros=True, random_start=random_start)\n",
    "        \n",
    "        return new_ep\n",
    "    \n",
    "    def __len__(self):\n",
    "        return len(self.obs)\n",
    "    \n",
    "    def __repr__(self):\n",
    "        return f'Episode of Length {len(self)}'"
   ]
  },
  {
   "cell_type": "code",
   "execution_count": 12,
   "metadata": {},
   "outputs": [],
   "source": [
    "env_test = gym.make('CartPole-v1')"
   ]
  },
  {
   "cell_type": "code",
   "execution_count": 13,
   "metadata": {},
   "outputs": [
    {
     "data": {
      "text/plain": [
       "Episode of Length 13"
      ]
     },
     "execution_count": 13,
     "metadata": {},
     "output_type": "execute_result"
    }
   ],
   "source": [
    "observation, _ = env_test.reset()\n",
    "done = False\n",
    "ep = Episode()\n",
    "while not done:\n",
    "    action = env_test.action_space.sample()\n",
    "    observation_prime, reward, terminated, truncated, _ = env_test.step(action) \n",
    "    ep.add_step(\n",
    "        observation.squeeze(),\n",
    "        action, \n",
    "        reward, \n",
    "        observation_prime.squeeze(),\n",
    "        terminated or truncated\n",
    "    )\n",
    "    \n",
    "    done = terminated or truncated\n",
    "    observation = observation_prime\n",
    "ep"
   ]
  },
  {
   "cell_type": "code",
   "execution_count": 14,
   "metadata": {},
   "outputs": [
    {
     "data": {
      "text/plain": [
       "Episode of Length 17"
      ]
     },
     "execution_count": 14,
     "metadata": {},
     "output_type": "execute_result"
    }
   ],
   "source": [
    "padded_ep = ep.pad(17, random=True)\n",
    "padded_ep"
   ]
  },
  {
   "cell_type": "code",
   "execution_count": 15,
   "metadata": {},
   "outputs": [],
   "source": [
    "import random\n",
    "\n",
    "class ReplayBufferDRQN:\n",
    "    \n",
    "    def __init__(self, capacity, device='cuda'):\n",
    "        self._buffer = deque(maxlen=capacity)\n",
    "        self.device = device\n",
    "    \n",
    "    def store(self, episode):\n",
    "        self._buffer.append(episode)\n",
    "    \n",
    "    def sample(self, batch_size, stop=None, randomize=True):\n",
    "        batch = random.choices(self._buffer, k=batch_size)\n",
    "        max_len = len(max(batch, key=len)) if stop is None else stop\n",
    "        padded_batch = [ep.pad(max_len, random=randomize) for ep in batch]\n",
    "        \n",
    "        return (\n",
    "            self.extract_item(padded_batch, 0, (batch_size, max_len, 4), dtype=torch.float32),\n",
    "            self.extract_item(padded_batch, 1, (batch_size, max_len, 1), dtype=torch.int64),\n",
    "            self.extract_item(padded_batch, 2, (batch_size, max_len, 1), dtype=torch.float32),\n",
    "            self.extract_item(padded_batch, 3, (batch_size, max_len, 4), dtype=torch.float32),\n",
    "            self.extract_item(padded_batch, 4, (batch_size, max_len, 1), dtype=torch.bool)\n",
    "        )\n",
    "\n",
    "    def extract_item(self, batch, arg, shape, dtype):\n",
    "        batched_values = np.array([val[arg, :] for val in batch]).reshape(shape)\n",
    "        batched_values = torch.as_tensor(batched_values, dtype=dtype, device=self.device)\n",
    "        return batched_values\n",
    "\n",
    "    def __getitem__(self, index):\n",
    "        return self._buffer[index]\n",
    "        \n",
    "    def __len__(self):\n",
    "        return len(self._buffer)"
   ]
  },
  {
   "cell_type": "code",
   "execution_count": 16,
   "metadata": {},
   "outputs": [],
   "source": [
    "buffer = ReplayBufferDRQN(50)\n",
    "\n",
    "observation, _ = env_test.reset()\n",
    "for _ in range(30):    \n",
    "    observation, _ = env_test.reset()\n",
    "    done = False\n",
    "    ep = Episode()\n",
    "    while not done:\n",
    "        action = env_test.action_space.sample()\n",
    "        observation_prime, reward, terminated, truncated, _ = env_test.step(action) \n",
    "        ep.add_step(\n",
    "            observation.squeeze(),\n",
    "            action, \n",
    "            reward, \n",
    "            observation_prime.squeeze(),\n",
    "            terminated or truncated\n",
    "        )\n",
    "        \n",
    "        done = terminated or truncated\n",
    "        observation = observation_prime\n",
    "        \n",
    "    buffer.store(ep)"
   ]
  },
  {
   "cell_type": "code",
   "execution_count": 18,
   "metadata": {},
   "outputs": [],
   "source": [
    "for _ in range(10):\n",
    "    test_obs, test_act, test_rew, test_prime, test_dones = buffer.sample(16, 50, randomize=True)"
   ]
  },
  {
   "cell_type": "code",
   "execution_count": 19,
   "metadata": {},
   "outputs": [
    {
     "data": {
      "text/plain": [
       "(torch.Size([16, 50, 4]),\n",
       " torch.Size([16, 50, 1]),\n",
       " torch.Size([16, 50, 1]),\n",
       " torch.Size([16, 50, 4]),\n",
       " torch.Size([16, 50, 1]))"
      ]
     },
     "execution_count": 19,
     "metadata": {},
     "output_type": "execute_result"
    }
   ],
   "source": [
    "test_obs.shape, test_act.shape, test_rew.shape, test_prime.shape, test_dones.shape"
   ]
  },
  {
   "cell_type": "code",
   "execution_count": 20,
   "metadata": {},
   "outputs": [],
   "source": [
    "def load_buffer(preload, capacity):\n",
    "    env = gym.make('CartPole-v1')\n",
    "    env = MaskPole(env)\n",
    "    buffer = ReplayBufferDRQN(capacity)\n",
    "\n",
    "    observation, _ = env.reset()\n",
    "    for _ in tqdm(range(preload)):    \n",
    "        observation, _ = env.reset()\n",
    "        done = False\n",
    "        ep = Episode()\n",
    "        while not done:\n",
    "            action = env_test.action_space.sample()\n",
    "            observation_prime, reward, terminated, truncated, _ = env.step(action)\n",
    "\n",
    "            ep.add_step(\n",
    "                observation.squeeze(),\n",
    "                action, \n",
    "                reward, \n",
    "                observation_prime.squeeze(),\n",
    "                terminated or truncated\n",
    "            )\n",
    "            \n",
    "            done = terminated or truncated\n",
    "            observation = observation_prime\n",
    "        \n",
    "        buffer.store(ep)\n",
    "            \n",
    "    return buffer, env"
   ]
  },
  {
   "cell_type": "code",
   "execution_count": 21,
   "metadata": {},
   "outputs": [],
   "source": [
    "class MetricTrackerDRQN:\n",
    "    def __init__(self, window_size=50):\n",
    "        self.window_size = window_size\n",
    "        self.rewards = deque(maxlen=window_size)\n",
    "        self.current_episode_reward = 0\n",
    "        \n",
    "    def add_episode_reward(self, reward):\n",
    "        self.current_episode_reward += reward\n",
    "        \n",
    "    def end_episode(self):\n",
    "        self.rewards.append(self.current_episode_reward)   \n",
    "        self.current_episode_reward = 0\n",
    "         \n",
    "    @property\n",
    "    def avg_reward(self):\n",
    "        return np.mean(self.rewards) if self.rewards else 0\n",
    "        "
   ]
  },
  {
   "cell_type": "code",
   "execution_count": 22,
   "metadata": {},
   "outputs": [],
   "source": [
    "def train(\n",
    "    env, \n",
    "    name, \n",
    "    q_network, \n",
    "    target_network, \n",
    "    timesteps, \n",
    "    replay, \n",
    "    train_freq, \n",
    "    batch_size, \n",
    "    lr,\n",
    "    gamma, \n",
    "    episode_len,\n",
    "    decay_start,\n",
    "    C,\n",
    "    save_step,\n",
    "):\n",
    "    average_rewards = []\n",
    "    loss_func = nn.MSELoss()\n",
    "    start_time = time.time()\n",
    "    episode_count = 0\n",
    "    best_avg_reward = -float('inf')\n",
    "    metrics = MetricTrackerDRQN()\n",
    "    \n",
    "    optimizer = torch.optim.Adam(q_network.parameters(), lr=lr)\n",
    "    obs, _ = env.reset()\n",
    "    episode = Episode()\n",
    "    steps_per_sec = 1\n",
    "    \n",
    "    for step in range(1, timesteps+1):\n",
    "        \n",
    "        batched_obs = obs.reshape(1, 1, 4)\n",
    "        action = q_network.epsilon_greedy(torch.as_tensor(batched_obs, dtype=torch.float32, device=device)).cpu().item()\n",
    "        obs_prime, reward, terminated, truncated, _ = env.step(action)\n",
    "        \n",
    "        episode.add_step(\n",
    "            obs.squeeze(), \n",
    "            action,\n",
    "            reward, \n",
    "            obs_prime.squeeze(),\n",
    "            terminated or truncated\n",
    "        )\n",
    "        \n",
    "        metrics.add_episode_reward(reward)\n",
    "        obs = obs_prime\n",
    "        \n",
    "        \n",
    "        if step % train_freq == 0:\n",
    "            observations, actions, rewards, observation_primes, dones = replay.sample(batch_size, episode_len)\n",
    "            with torch.no_grad():\n",
    "                q_values_minus = target_network(observation_primes)\n",
    "                boostrapped_values = torch.amax(q_values_minus, dim=-1, keepdim=True)\n",
    "                \n",
    "            y_trues = torch.where(dones, rewards, rewards + gamma * boostrapped_values)\n",
    "            y_preds = q_network(observations)\n",
    "\n",
    "            loss = loss_func(y_preds.gather(-1, actions), y_trues)\n",
    "            \n",
    "            optimizer.zero_grad()\n",
    "            loss.backward()\n",
    "            torch.nn.utils.clip_grad_norm_(q_network.parameters(), 10)\n",
    "            optimizer.step()\n",
    "        \n",
    "        if step > decay_start: \n",
    "            q_network.epsilon_decay(step - decay_start)\n",
    "            target_network.epsilon_decay(step - decay_start)\n",
    "            \n",
    "        if terminated or truncated:\n",
    "            elapsed_time = time.time() - start_time\n",
    "            steps_per_sec = step / elapsed_time\n",
    "            metrics.end_episode()\n",
    "            episode_count += 1\n",
    "            average_rewards.append(metrics.avg_reward)\n",
    "            \n",
    "            replay.store(episode)\n",
    "            obs, _ = env.reset()\n",
    "\n",
    "            episode = Episode()\n",
    "        \n",
    "            if metrics.avg_reward > best_avg_reward and step > save_step:\n",
    "                best_avg_reward = metrics.avg_reward\n",
    "                torch.save({\n",
    "                    'step': step,\n",
    "                    'model_state_dict': q_network.state_dict(),\n",
    "                    'optimizer_state_dict': optimizer.state_dict(),\n",
    "                    'avg_reward': metrics.avg_reward,\n",
    "                }, f\"../models/{name}_drqn_best_{timesteps}.pth\")\n",
    "                \n",
    "        print(f\"\\rStep: {step:,}/{timesteps:,} | \"\n",
    "                f\"Episodes: {episode_count} | \"\n",
    "                f\"Avg Reward: {metrics.avg_reward:.1f} | \"\n",
    "                f\"Epsilon: {q_network.epsilon:.3f} | \"\n",
    "                f\"Steps/sec: {steps_per_sec:.1f} | \", \n",
    "                f\"Time left: {(timesteps-step)/steps_per_sec:.1f}\", end=\"\\r\")\n",
    "        \n",
    "        if step % C == 0:\n",
    "            target_network.load_state_dict(q_network.state_dict())\n",
    "            \n",
    "    return average_rewards\n"
   ]
  },
  {
   "cell_type": "code",
   "execution_count": 26,
   "metadata": {},
   "outputs": [],
   "source": [
    "TIMESTEPS = 100000\n",
    "LR = 1e-4\n",
    "BATCH_SIZE = 128\n",
    "C = 2000\n",
    "GAMMA = 0.99\n",
    "TRAIN_FREQ = 1\n",
    "DECAY_START = 0 \n",
    "FINAL_ANNEAL = 90000"
   ]
  },
  {
   "cell_type": "code",
   "execution_count": 25,
   "metadata": {},
   "outputs": [
    {
     "name": "stderr",
     "output_type": "stream",
     "text": [
      "100%|██████████| 50000/50000 [00:14<00:00, 3413.84it/s]\n"
     ]
    }
   ],
   "source": [
    "buffer, env = load_buffer(50000, 100000)"
   ]
  },
  {
   "cell_type": "code",
   "execution_count": null,
   "metadata": {},
   "outputs": [
    {
     "name": "stdout",
     "output_type": "stream",
     "text": [
      "Step: 45,740/100,000 | Episodes: 908 | Avg Reward: 61.5 | Epsilon: 0.148 | Steps/sec: 29.2 |  Time left: 1858.4\r"
     ]
    }
   ],
   "source": [
    "q_network = DRQN(env, decay_steps=(FINAL_ANNEAL - DECAY_START), start_epsilon=0.3, max_decay=0.001).to(device)\n",
    "target_network = DRQN(env, decay_steps=(FINAL_ANNEAL - DECAY_START), start_epsilon=0.3, max_decay=0.001).to(device)\n",
    "target_network.load_state_dict(q_network.state_dict())\n",
    "\n",
    "metrics = MetricTracker()\n",
    "\n",
    "rewards = train(\n",
    "    env=env,\n",
    "    q_network=q_network, \n",
    "    name='cartpole',\n",
    "    target_network=target_network, \n",
    "    timesteps=TIMESTEPS, \n",
    "    replay=buffer, \n",
    "    train_freq=TRAIN_FREQ, \n",
    "    lr=LR, \n",
    "    batch_size=BATCH_SIZE, \n",
    "    gamma=GAMMA, \n",
    "    episode_len=30, \n",
    "    decay_start=DECAY_START,\n",
    "    C=C,\n",
    "    save_step=0\n",
    ") "
   ]
  },
  {
   "cell_type": "code",
   "execution_count": 369,
   "metadata": {},
   "outputs": [
    {
     "data": {
      "image/png": "[encoded data removed]",
      "text/plain": [
       "<Figure size 640x480 with 1 Axes>"
      ]
     },
     "metadata": {},
     "output_type": "display_data"
    }
   ],
   "source": [
    "plt.plot(np.arange(len(rewards)), rewards, label='Average rewards')\n",
    "plt.xlabel('Episodes')\n",
    "plt.legend()\n",
    "plt.grid()\n",
    "plt.ylabel('Cummulative Reward')\n",
    "plt.title('Cartpole Average Rewards vs Episodes')\n",
    "plt.show()"
   ]
  },
  {
   "cell_type": "code",
   "execution_count": 373,
   "metadata": {},
   "outputs": [],
   "source": [
    "def test(model, num_eps=10, mask=False):\n",
    "    env_test = gym.make('CartPole-v1', render_mode='human')\n",
    "    if mask:\n",
    "        env_test = MaskPole(env_test)\n",
    "\n",
    "    q_network_trained = DRQN(env_test)\n",
    "    q_network_trained.load_state_dict(torch.load(model, weights_only=False)['model_state_dict'])\n",
    "    q_network_trained.eval()\n",
    "    q_network_trained.epsilon = 0.0\n",
    "    \n",
    "    \n",
    "    rewards_list = []\n",
    "\n",
    "    for episode in range(num_eps):\n",
    "        print(f'Episode {episode}', end='\\r', flush=True)\n",
    "        obs, _ = env_test.reset()\n",
    "        done = False\n",
    "        total_reward = 0\n",
    "        \n",
    "        while not done:\n",
    "            batched_obs = np.expand_dims(obs.squeeze(), axis=0)\n",
    "            action = q_network_trained.epsilon_greedy(torch.as_tensor(batched_obs, dtype=torch.float32)).cpu().item()\n",
    "                \n",
    "            next_observation, reward, terminated, truncated, _ = env_test.step(action)\n",
    "            total_reward += reward\n",
    "            obs = next_observation\n",
    "\n",
    "            done = terminated or truncated\n",
    "            \n",
    "        rewards_list.append(total_reward)\n",
    "\n",
    "    env_test.close()\n",
    "    print(f'Average episode reward achieved: {np.mean(rewards_list)}')"
   ]
  },
  {
   "cell_type": "code",
   "execution_count": 374,
   "metadata": {},
   "outputs": [
    {
     "name": "stdout",
     "output_type": "stream",
     "text": [
      "Average episode reward achieved: 286.7\n"
     ]
    }
   ],
   "source": [
    "test('../models/cartpole_drqn_best_40K.pth')"
   ]
  },
  {
   "cell_type": "code",
   "execution_count": 375,
   "metadata": {},
   "outputs": [
    {
     "name": "stdout",
     "output_type": "stream",
     "text": [
      "Average episode reward achieved: 85.6\n"
     ]
    }
   ],
   "source": [
    "test('../models/cartpole_drqn_best_40K.pth', mask=True)"
   ]
  }
 ],
 "metadata": {
  "kernelspec": {
   "display_name": ".venv",
   "language": "python",
   "name": "python3"
  },
  "language_info": {
   "codemirror_mode": {
    "name": "ipython",
    "version": 3
   },
   "file_extension": ".py",
   "mimetype": "text/x-python",
   "name": "python",
   "nbconvert_exporter": "python",
   "pygments_lexer": "ipython3",
   "version": "3.12.5"
  }
 },
 "nbformat": 4,
 "nbformat_minor": 2
}
